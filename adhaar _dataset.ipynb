{
 "cells": [
  {
   "cell_type": "code",
   "execution_count": 1,
   "id": "33523580",
   "metadata": {},
   "outputs": [],
   "source": [
    "import pandas as pd"
   ]
  },
  {
   "cell_type": "code",
   "execution_count": 25,
   "id": "25ed4946",
   "metadata": {},
   "outputs": [
    {
     "name": "stderr",
     "output_type": "stream",
     "text": [
      "C:\\Users\\Sys7\\AppData\\Local\\Temp\\ipykernel_1560\\1292126104.py:1: DtypeWarning: Columns (5) have mixed types. Specify dtype option on import or set low_memory=False.\n",
      "  adhaar=pd.read_csv(\"C:/Users/Sys7/Documents/python files/adhaar_data.csv\")\n"
     ]
    },
    {
     "data": {
      "text/html": [
       "<div>\n",
       "<style scoped>\n",
       "    .dataframe tbody tr th:only-of-type {\n",
       "        vertical-align: middle;\n",
       "    }\n",
       "\n",
       "    .dataframe tbody tr th {\n",
       "        vertical-align: top;\n",
       "    }\n",
       "\n",
       "    .dataframe thead th {\n",
       "        text-align: right;\n",
       "    }\n",
       "</style>\n",
       "<table border=\"1\" class=\"dataframe\">\n",
       "  <thead>\n",
       "    <tr style=\"text-align: right;\">\n",
       "      <th></th>\n",
       "      <th>Registrar</th>\n",
       "      <th>Enrolment Agency</th>\n",
       "      <th>State</th>\n",
       "      <th>District</th>\n",
       "      <th>Sub District</th>\n",
       "      <th>Pin Code</th>\n",
       "      <th>Gender</th>\n",
       "      <th>Age</th>\n",
       "      <th>Aadhaar generated</th>\n",
       "      <th>Enrolment Rejected</th>\n",
       "      <th>Residents providing email</th>\n",
       "      <th>Residents providing mobile number</th>\n",
       "    </tr>\n",
       "  </thead>\n",
       "  <tbody>\n",
       "    <tr>\n",
       "      <th>0</th>\n",
       "      <td>Allahabad Bank</td>\n",
       "      <td>A-Onerealtors Pvt Ltd</td>\n",
       "      <td>Uttar Pradesh</td>\n",
       "      <td>Allahabad</td>\n",
       "      <td>Meja</td>\n",
       "      <td>212303</td>\n",
       "      <td>F</td>\n",
       "      <td>7</td>\n",
       "      <td>1</td>\n",
       "      <td>0</td>\n",
       "      <td>0</td>\n",
       "      <td>1</td>\n",
       "    </tr>\n",
       "    <tr>\n",
       "      <th>1</th>\n",
       "      <td>Allahabad Bank</td>\n",
       "      <td>Asha Security Guard Services</td>\n",
       "      <td>Uttar Pradesh</td>\n",
       "      <td>Sonbhadra</td>\n",
       "      <td>Robertsganj</td>\n",
       "      <td>231213</td>\n",
       "      <td>M</td>\n",
       "      <td>8</td>\n",
       "      <td>1</td>\n",
       "      <td>0</td>\n",
       "      <td>0</td>\n",
       "      <td>0</td>\n",
       "    </tr>\n",
       "    <tr>\n",
       "      <th>2</th>\n",
       "      <td>Allahabad Bank</td>\n",
       "      <td>SGS INDIA PVT LTD</td>\n",
       "      <td>Uttar Pradesh</td>\n",
       "      <td>Sultanpur</td>\n",
       "      <td>Sultanpur</td>\n",
       "      <td>227812</td>\n",
       "      <td>F</td>\n",
       "      <td>13</td>\n",
       "      <td>1</td>\n",
       "      <td>0</td>\n",
       "      <td>0</td>\n",
       "      <td>1</td>\n",
       "    </tr>\n",
       "    <tr>\n",
       "      <th>3</th>\n",
       "      <td>Allahabad Bank</td>\n",
       "      <td>Sri Ramraja Sarkar Lok Kalyan Trust</td>\n",
       "      <td>Uttar Pradesh</td>\n",
       "      <td>Shamli</td>\n",
       "      <td>Shamli</td>\n",
       "      <td>247775</td>\n",
       "      <td>M</td>\n",
       "      <td>6</td>\n",
       "      <td>1</td>\n",
       "      <td>0</td>\n",
       "      <td>0</td>\n",
       "      <td>1</td>\n",
       "    </tr>\n",
       "    <tr>\n",
       "      <th>4</th>\n",
       "      <td>Allahabad Bank</td>\n",
       "      <td>Transmoovers India</td>\n",
       "      <td>Uttar Pradesh</td>\n",
       "      <td>Gorakhpur</td>\n",
       "      <td>Sahjanwa</td>\n",
       "      <td>273001</td>\n",
       "      <td>M</td>\n",
       "      <td>8</td>\n",
       "      <td>1</td>\n",
       "      <td>0</td>\n",
       "      <td>0</td>\n",
       "      <td>1</td>\n",
       "    </tr>\n",
       "    <tr>\n",
       "      <th>...</th>\n",
       "      <td>...</td>\n",
       "      <td>...</td>\n",
       "      <td>...</td>\n",
       "      <td>...</td>\n",
       "      <td>...</td>\n",
       "      <td>...</td>\n",
       "      <td>...</td>\n",
       "      <td>...</td>\n",
       "      <td>...</td>\n",
       "      <td>...</td>\n",
       "      <td>...</td>\n",
       "      <td>...</td>\n",
       "    </tr>\n",
       "    <tr>\n",
       "      <th>440813</th>\n",
       "      <td>Women and Child Development Govt. of Jharkhand</td>\n",
       "      <td>Women and Child Development</td>\n",
       "      <td>Jharkhand</td>\n",
       "      <td>Palamu</td>\n",
       "      <td>Patan</td>\n",
       "      <td>822123</td>\n",
       "      <td>M</td>\n",
       "      <td>1</td>\n",
       "      <td>3</td>\n",
       "      <td>0</td>\n",
       "      <td>0</td>\n",
       "      <td>1</td>\n",
       "    </tr>\n",
       "    <tr>\n",
       "      <th>440814</th>\n",
       "      <td>Women and Child Development Govt. of Jharkhand</td>\n",
       "      <td>Women and Child Development</td>\n",
       "      <td>Jharkhand</td>\n",
       "      <td>Palamu</td>\n",
       "      <td>Patan</td>\n",
       "      <td>822123</td>\n",
       "      <td>M</td>\n",
       "      <td>2</td>\n",
       "      <td>1</td>\n",
       "      <td>0</td>\n",
       "      <td>0</td>\n",
       "      <td>1</td>\n",
       "    </tr>\n",
       "    <tr>\n",
       "      <th>440815</th>\n",
       "      <td>Women and Child Development Govt. of Jharkhand</td>\n",
       "      <td>Women and Child Development</td>\n",
       "      <td>Jharkhand</td>\n",
       "      <td>Palamu</td>\n",
       "      <td>Patan</td>\n",
       "      <td>822123</td>\n",
       "      <td>M</td>\n",
       "      <td>3</td>\n",
       "      <td>3</td>\n",
       "      <td>0</td>\n",
       "      <td>0</td>\n",
       "      <td>1</td>\n",
       "    </tr>\n",
       "    <tr>\n",
       "      <th>440816</th>\n",
       "      <td>Women and Child Development Govt. of Jharkhand</td>\n",
       "      <td>Women and Child Development</td>\n",
       "      <td>Jharkhand</td>\n",
       "      <td>Palamu</td>\n",
       "      <td>Patan</td>\n",
       "      <td>822123</td>\n",
       "      <td>M</td>\n",
       "      <td>4</td>\n",
       "      <td>1</td>\n",
       "      <td>0</td>\n",
       "      <td>0</td>\n",
       "      <td>0</td>\n",
       "    </tr>\n",
       "    <tr>\n",
       "      <th>440817</th>\n",
       "      <td>Women and Child Development Govt. of Jharkhand</td>\n",
       "      <td>Women and Child Development</td>\n",
       "      <td>Jharkhand</td>\n",
       "      <td>Ranchi</td>\n",
       "      <td>Ranchi</td>\n",
       "      <td>834002</td>\n",
       "      <td>F</td>\n",
       "      <td>3</td>\n",
       "      <td>1</td>\n",
       "      <td>0</td>\n",
       "      <td>0</td>\n",
       "      <td>1</td>\n",
       "    </tr>\n",
       "  </tbody>\n",
       "</table>\n",
       "<p>440818 rows × 12 columns</p>\n",
       "</div>"
      ],
      "text/plain": [
       "                                             Registrar  \\\n",
       "0                                       Allahabad Bank   \n",
       "1                                       Allahabad Bank   \n",
       "2                                       Allahabad Bank   \n",
       "3                                       Allahabad Bank   \n",
       "4                                       Allahabad Bank   \n",
       "...                                                ...   \n",
       "440813  Women and Child Development Govt. of Jharkhand   \n",
       "440814  Women and Child Development Govt. of Jharkhand   \n",
       "440815  Women and Child Development Govt. of Jharkhand   \n",
       "440816  Women and Child Development Govt. of Jharkhand   \n",
       "440817  Women and Child Development Govt. of Jharkhand   \n",
       "\n",
       "                           Enrolment Agency          State   District  \\\n",
       "0                     A-Onerealtors Pvt Ltd  Uttar Pradesh  Allahabad   \n",
       "1              Asha Security Guard Services  Uttar Pradesh  Sonbhadra   \n",
       "2                         SGS INDIA PVT LTD  Uttar Pradesh  Sultanpur   \n",
       "3       Sri Ramraja Sarkar Lok Kalyan Trust  Uttar Pradesh     Shamli   \n",
       "4                        Transmoovers India  Uttar Pradesh  Gorakhpur   \n",
       "...                                     ...            ...        ...   \n",
       "440813          Women and Child Development      Jharkhand     Palamu   \n",
       "440814          Women and Child Development      Jharkhand     Palamu   \n",
       "440815          Women and Child Development      Jharkhand     Palamu   \n",
       "440816          Women and Child Development      Jharkhand     Palamu   \n",
       "440817          Women and Child Development      Jharkhand     Ranchi   \n",
       "\n",
       "       Sub District Pin Code Gender  Age  Aadhaar generated  \\\n",
       "0              Meja   212303      F    7                  1   \n",
       "1       Robertsganj   231213      M    8                  1   \n",
       "2         Sultanpur   227812      F   13                  1   \n",
       "3            Shamli   247775      M    6                  1   \n",
       "4          Sahjanwa   273001      M    8                  1   \n",
       "...             ...      ...    ...  ...                ...   \n",
       "440813        Patan   822123      M    1                  3   \n",
       "440814        Patan   822123      M    2                  1   \n",
       "440815        Patan   822123      M    3                  3   \n",
       "440816        Patan   822123      M    4                  1   \n",
       "440817       Ranchi   834002      F    3                  1   \n",
       "\n",
       "        Enrolment Rejected  Residents providing email  \\\n",
       "0                        0                          0   \n",
       "1                        0                          0   \n",
       "2                        0                          0   \n",
       "3                        0                          0   \n",
       "4                        0                          0   \n",
       "...                    ...                        ...   \n",
       "440813                   0                          0   \n",
       "440814                   0                          0   \n",
       "440815                   0                          0   \n",
       "440816                   0                          0   \n",
       "440817                   0                          0   \n",
       "\n",
       "        Residents providing mobile number  \n",
       "0                                       1  \n",
       "1                                       0  \n",
       "2                                       1  \n",
       "3                                       1  \n",
       "4                                       1  \n",
       "...                                   ...  \n",
       "440813                                  1  \n",
       "440814                                  1  \n",
       "440815                                  1  \n",
       "440816                                  0  \n",
       "440817                                  1  \n",
       "\n",
       "[440818 rows x 12 columns]"
      ]
     },
     "execution_count": 25,
     "metadata": {},
     "output_type": "execute_result"
    }
   ],
   "source": [
    "adhaar=pd.read_csv(\"C:/Users/Sys7/Documents/python files/adhaar_data.csv\")\n",
    "adhaar"
   ]
  },
  {
   "cell_type": "code",
   "execution_count": 3,
   "id": "f6d8aba6",
   "metadata": {},
   "outputs": [
    {
     "name": "stdout",
     "output_type": "stream",
     "text": [
      "<class 'pandas.core.frame.DataFrame'>\n",
      "RangeIndex: 440818 entries, 0 to 440817\n",
      "Data columns (total 12 columns):\n",
      " #   Column                             Non-Null Count   Dtype \n",
      "---  ------                             --------------   ----- \n",
      " 0   Registrar                          440818 non-null  object\n",
      " 1   Enrolment Agency                   440818 non-null  object\n",
      " 2   State                              440818 non-null  object\n",
      " 3   District                           440818 non-null  object\n",
      " 4   Sub District                       440818 non-null  object\n",
      " 5   Pin Code                           440818 non-null  object\n",
      " 6   Gender                             440818 non-null  object\n",
      " 7   Age                                440818 non-null  int64 \n",
      " 8   Aadhaar generated                  440818 non-null  int64 \n",
      " 9   Enrolment Rejected                 440818 non-null  int64 \n",
      " 10  Residents providing email          440818 non-null  int64 \n",
      " 11  Residents providing mobile number  440818 non-null  int64 \n",
      "dtypes: int64(5), object(7)\n",
      "memory usage: 40.4+ MB\n"
     ]
    }
   ],
   "source": [
    "adhaar.info()"
   ]
  },
  {
   "cell_type": "code",
   "execution_count": 30,
   "id": "bd97398d",
   "metadata": {},
   "outputs": [
    {
     "name": "stdout",
     "output_type": "stream",
     "text": [
      "State\n",
      "Andaman and Nicobar Islands        5\n",
      "Andhra Pradesh                  3519\n",
      "Arunachal Pradesh                439\n",
      "Assam                           2742\n",
      "Bihar                          57652\n",
      "Chandigarh                       162\n",
      "Chhattisgarh                    3409\n",
      "Dadra and Nagar Haveli            85\n",
      "Daman and Diu                     89\n",
      "Delhi                           5816\n",
      "Goa                              575\n",
      "Gujarat                        18358\n",
      "Haryana                         3936\n",
      "Himachal Pradesh                1029\n",
      "Jammu and Kashmir               1074\n",
      "Jharkhand                       5798\n",
      "Karnataka                      12167\n",
      "Kerala                          9955\n",
      "Lakshadweep                        4\n",
      "Madhya Pradesh                 27491\n",
      "Maharashtra                    15234\n",
      "Manipur                          334\n",
      "Meghalaya                        237\n",
      "Mizoram                         1778\n",
      "Nagaland                         289\n",
      "Odisha                          9105\n",
      "Others                            12\n",
      "Puducherry                        69\n",
      "Punjab                          4944\n",
      "Rajasthan                      21304\n",
      "Sikkim                            43\n",
      "Tamil Nadu                     16464\n",
      "Telangana                       2953\n",
      "Tripura                          574\n",
      "Uttar Pradesh                  52652\n",
      "Uttarakhand                     4341\n",
      "West Bengal                    43832\n",
      "dtype: int64\n"
     ]
    }
   ],
   "source": [
    "# approved by each states\n",
    "state_approved=adhaar[adhaar['Aadhaar generated']==True].groupby('State').size()\n",
    "print(state_approved)"
   ]
  },
  {
   "cell_type": "code",
   "execution_count": 31,
   "id": "57d2c322",
   "metadata": {},
   "outputs": [
    {
     "data": {
      "text/plain": [
       "328470"
      ]
     },
     "execution_count": 31,
     "metadata": {},
     "output_type": "execute_result"
    }
   ],
   "source": [
    "state_approved.sum()"
   ]
  },
  {
   "cell_type": "code",
   "execution_count": 40,
   "id": "301219bb",
   "metadata": {},
   "outputs": [
    {
     "name": "stdout",
     "output_type": "stream",
     "text": [
      "State\n",
      "Andaman and Nicobar Islands       2\n",
      "Andhra Pradesh                  310\n",
      "Arunachal Pradesh                67\n",
      "Assam                            28\n",
      "Bihar                          4602\n",
      "Chandigarh                        9\n",
      "Chhattisgarh                    321\n",
      "Dadra and Nagar Haveli            3\n",
      "Daman and Diu                     2\n",
      "Delhi                           523\n",
      "Goa                              80\n",
      "Gujarat                        1732\n",
      "Haryana                         455\n",
      "Himachal Pradesh                106\n",
      "Jammu and Kashmir               190\n",
      "Jharkhand                       420\n",
      "Karnataka                      1286\n",
      "Kerala                          484\n",
      "Lakshadweep                       1\n",
      "Madhya Pradesh                 2785\n",
      "Maharashtra                    1581\n",
      "Manipur                          90\n",
      "Meghalaya                         2\n",
      "Mizoram                         124\n",
      "Nagaland                         26\n",
      "Odisha                         1035\n",
      "Puducherry                       10\n",
      "Punjab                          396\n",
      "Rajasthan                      1613\n",
      "Sikkim                            2\n",
      "Tamil Nadu                      987\n",
      "Telangana                       217\n",
      "Tripura                          54\n",
      "Uttar Pradesh                  3892\n",
      "Uttarakhand                     549\n",
      "West Bengal                    3900\n",
      "dtype: int64\n"
     ]
    }
   ],
   "source": [
    "#rejected by state\n",
    "state_rejected=adhaar[adhaar['Enrolment Rejected']==True].groupby('State')..size()\n",
    "print(state_rejected)"
   ]
  },
  {
   "cell_type": "code",
   "execution_count": 33,
   "id": "22d82a65",
   "metadata": {},
   "outputs": [
    {
     "data": {
      "text/plain": [
       "27884"
      ]
     },
     "execution_count": 33,
     "metadata": {},
     "output_type": "execute_result"
    }
   ],
   "source": [
    "state_rejected.sum()"
   ]
  },
  {
   "cell_type": "code",
   "execution_count": 41,
   "id": "3457b87e",
   "metadata": {},
   "outputs": [
    {
     "name": "stdout",
     "output_type": "stream",
     "text": [
      "District\n",
      "Adilabad         137\n",
      "Agra            1233\n",
      "Ahmadnagar       378\n",
      "Ahmedabad       2674\n",
      "Aizawl           397\n",
      "                ... \n",
      "Wokha             26\n",
      "Yadgir           223\n",
      "Yamuna Nagar     103\n",
      "Yavatmal         299\n",
      "Zunheboto          8\n",
      "Length: 664, dtype: int64\n"
     ]
    }
   ],
   "source": [
    "#approved by district\n",
    "cards_approved_by_district=adhaar[adhaar['Aadhaar generated']==True].groupby('District').size()\n",
    "print(cards_approved_by_district)"
   ]
  },
  {
   "cell_type": "code",
   "execution_count": 43,
   "id": "c6c9ba23",
   "metadata": {},
   "outputs": [
    {
     "data": {
      "text/plain": [
       "328470"
      ]
     },
     "execution_count": 43,
     "metadata": {},
     "output_type": "execute_result"
    }
   ],
   "source": [
    "cards_approved_by_district.sum()"
   ]
  },
  {
   "cell_type": "code",
   "execution_count": 44,
   "id": "f0aacf25",
   "metadata": {},
   "outputs": [
    {
     "name": "stdout",
     "output_type": "stream",
     "text": [
      "District\n",
      "Adilabad          2\n",
      "Agra            101\n",
      "Ahmadnagar       43\n",
      "Ahmedabad       173\n",
      "Aizawl           60\n",
      "               ... \n",
      "West Tripura      6\n",
      "Wokha             2\n",
      "Yadgir           26\n",
      "Yamuna Nagar      9\n",
      "Yavatmal         65\n",
      "Length: 617, dtype: int64\n"
     ]
    }
   ],
   "source": [
    "#rejected by district\n",
    "cards_rejected_by_district=adhaar[adhaar['Enrolment Rejected']==True].groupby('District').size()\n",
    "print(cards_rejected_by_district)"
   ]
  },
  {
   "cell_type": "code",
   "execution_count": 45,
   "id": "38d3b889",
   "metadata": {},
   "outputs": [
    {
     "data": {
      "text/plain": [
       "27884"
      ]
     },
     "execution_count": 45,
     "metadata": {},
     "output_type": "execute_result"
    }
   ],
   "source": [
    "cards_rejected_by_district.sum()"
   ]
  },
  {
   "cell_type": "code",
   "execution_count": 51,
   "id": "e5689358",
   "metadata": {},
   "outputs": [
    {
     "data": {
      "text/plain": [
       "M    292798\n",
       "F    148013\n",
       "T         7\n",
       "Name: Gender, dtype: int64"
      ]
     },
     "execution_count": 51,
     "metadata": {},
     "output_type": "execute_result"
    }
   ],
   "source": [
    "# total gender count\n",
    "adhaar['Gender'].value_counts()"
   ]
  },
  {
   "cell_type": "code",
   "execution_count": 56,
   "id": "4e0ed808",
   "metadata": {},
   "outputs": [
    {
     "name": "stdout",
     "output_type": "stream",
     "text": [
      "count of age<25: 440818\n",
      "count of age 35 to 45: 440818\n",
      "count of age>45: 440818\n"
     ]
    }
   ],
   "source": [
    "#count of age>25,age between 25to 35, age >45\n",
    "count_age_25= (adhaar['Age']<25).count()\n",
    "count_age_25_to_35= ((adhaar['Age']>=25) & (adhaar['Age']<=35)).count()\n",
    "count_age_45= (adhaar['Age']>45).count()\n",
    "\n",
    "print(\"count of age<25:\", count_age_25)\n",
    "print(\"count of age 35 to 45:\", count_age_25_to_35)\n",
    "print(\"count of age>45:\", count_age_45)"
   ]
  },
  {
   "cell_type": "code",
   "execution_count": null,
   "id": "ba17276a",
   "metadata": {},
   "outputs": [],
   "source": []
  },
  {
   "cell_type": "code",
   "execution_count": null,
   "id": "03969098",
   "metadata": {},
   "outputs": [],
   "source": []
  }
 ],
 "metadata": {
  "kernelspec": {
   "display_name": "Python 3 (ipykernel)",
   "language": "python",
   "name": "python3"
  },
  "language_info": {
   "codemirror_mode": {
    "name": "ipython",
    "version": 3
   },
   "file_extension": ".py",
   "mimetype": "text/x-python",
   "name": "python",
   "nbconvert_exporter": "python",
   "pygments_lexer": "ipython3",
   "version": "3.11.4"
  }
 },
 "nbformat": 4,
 "nbformat_minor": 5
}
