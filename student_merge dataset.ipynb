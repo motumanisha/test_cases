{
 "cells": [
  {
   "cell_type": "code",
   "execution_count": 1,
   "id": "b6ff62a9",
   "metadata": {},
   "outputs": [],
   "source": [
    "import pandas as pd\n"
   ]
  },
  {
   "cell_type": "code",
   "execution_count": 3,
   "id": "ba63ae44",
   "metadata": {},
   "outputs": [],
   "source": [
    "# insert of dataframe\n",
    "df2=pd.DataFrame({\"names\":['vineet','hisham','raj','ajeet','sujit','ramesh','priya','priyanka','suresh','ritesh','hitesh','jatin','chitesh','suman','raman','aman','ravi','shravi','chavvi','himanshu'],\"rno\":['1','2','3','4','5','6','7','8','9','10','11','12','13','14','15','16','17','18','19','20']})\n",
    "df3=pd.DataFrame({\"results\":['fail','fail','pass','pass','fail','pass','fail','pass','pass','pass','pass','fail','fail','fail','pass','fail','pass','fail','pass','pass'],\"rno\":['1','2','3','4','5','6','7','8','9','10','11','12','13','14','15','16','17','18','19','20']})"
   ]
  },
  {
   "cell_type": "code",
   "execution_count": 4,
   "id": "83de9520",
   "metadata": {},
   "outputs": [
    {
     "name": "stdout",
     "output_type": "stream",
     "text": [
      "       names rno\n",
      "0     vineet   1\n",
      "1     hisham   2\n",
      "2        raj   3\n",
      "3      ajeet   4\n",
      "4      sujit   5\n",
      "5     ramesh   6\n",
      "6      priya   7\n",
      "7   priyanka   8\n",
      "8     suresh   9\n",
      "9     ritesh  10\n",
      "10    hitesh  11\n",
      "11     jatin  12\n",
      "12   chitesh  13\n",
      "13     suman  14\n",
      "14     raman  15\n",
      "15      aman  16\n",
      "16      ravi  17\n",
      "17    shravi  18\n",
      "18    chavvi  19\n",
      "19  himanshu  20\n"
     ]
    }
   ],
   "source": [
    "print(df2)"
   ]
  },
  {
   "cell_type": "code",
   "execution_count": 9,
   "id": "039bb867",
   "metadata": {},
   "outputs": [
    {
     "name": "stdout",
     "output_type": "stream",
     "text": [
      "       names rno results\n",
      "0     vineet   1    fail\n",
      "1     hisham   2    fail\n",
      "2        raj   3    pass\n",
      "3      ajeet   4    pass\n",
      "4      sujit   5    fail\n",
      "5     ramesh   6    pass\n",
      "6      priya   7    fail\n",
      "7   priyanka   8    pass\n",
      "8     suresh   9    pass\n",
      "9     ritesh  10    pass\n",
      "10    hitesh  11    pass\n",
      "11     jatin  12    fail\n",
      "12   chitesh  13    fail\n",
      "13     suman  14    fail\n",
      "14     raman  15    pass\n",
      "15      aman  16    fail\n",
      "16      ravi  17    pass\n",
      "17    shravi  18    fail\n",
      "18    chavvi  19    pass\n",
      "19  himanshu  20    pass\n"
     ]
    }
   ],
   "source": [
    "#merging df2 and df3\n",
    "df1=pd.merge(df2,df3,on= 'rno')\n",
    "print(df1)"
   ]
  },
  {
   "cell_type": "code",
   "execution_count": 12,
   "id": "145037f9",
   "metadata": {},
   "outputs": [
    {
     "name": "stdout",
     "output_type": "stream",
     "text": [
      "name        names rno results\n",
      "2        raj   3    pass\n",
      "3      ajeet   4    pass\n",
      "5     ramesh   6    pass\n",
      "7   priyanka   8    pass\n",
      "8     suresh   9    pass\n",
      "9     ritesh  10    pass\n",
      "10    hitesh  11    pass\n",
      "14     raman  15    pass\n",
      "16      ravi  17    pass\n",
      "18    chavvi  19    pass\n",
      "19  himanshu  20    pass\n"
     ]
    }
   ],
   "source": [
    "#selecting only pass student\n",
    "df5=df1[df1['results']=='pass']\n",
    "print('name',df5)"
   ]
  },
  {
   "cell_type": "code",
   "execution_count": 13,
   "id": "4566d3a1",
   "metadata": {},
   "outputs": [
    {
     "data": {
      "text/plain": [
       "names      11\n",
       "rno        11\n",
       "results    11\n",
       "dtype: int64"
      ]
     },
     "execution_count": 13,
     "metadata": {},
     "output_type": "execute_result"
    }
   ],
   "source": [
    "#count of pass student\n",
    "df5.count()"
   ]
  },
  {
   "cell_type": "code",
   "execution_count": 19,
   "id": "cd51bf7d",
   "metadata": {},
   "outputs": [
    {
     "data": {
      "text/plain": [
       "pass    11\n",
       "fail     9\n",
       "Name: results, dtype: int64"
      ]
     },
     "execution_count": 19,
     "metadata": {},
     "output_type": "execute_result"
    }
   ],
   "source": [
    "#count of pass/fail student\n",
    "df1['results'].value_counts()"
   ]
  },
  {
   "cell_type": "code",
   "execution_count": 24,
   "id": "2ba82f46",
   "metadata": {},
   "outputs": [
    {
     "data": {
      "text/html": [
       "<div>\n",
       "<style scoped>\n",
       "    .dataframe tbody tr th:only-of-type {\n",
       "        vertical-align: middle;\n",
       "    }\n",
       "\n",
       "    .dataframe tbody tr th {\n",
       "        vertical-align: top;\n",
       "    }\n",
       "\n",
       "    .dataframe thead th {\n",
       "        text-align: right;\n",
       "    }\n",
       "</style>\n",
       "<table border=\"1\" class=\"dataframe\">\n",
       "  <thead>\n",
       "    <tr style=\"text-align: right;\">\n",
       "      <th></th>\n",
       "      <th>names</th>\n",
       "      <th>rno</th>\n",
       "      <th>results</th>\n",
       "    </tr>\n",
       "  </thead>\n",
       "  <tbody>\n",
       "    <tr>\n",
       "      <th>3</th>\n",
       "      <td>ajeet</td>\n",
       "      <td>4</td>\n",
       "      <td>pass</td>\n",
       "    </tr>\n",
       "    <tr>\n",
       "      <th>15</th>\n",
       "      <td>aman</td>\n",
       "      <td>16</td>\n",
       "      <td>fail</td>\n",
       "    </tr>\n",
       "    <tr>\n",
       "      <th>18</th>\n",
       "      <td>chavvi</td>\n",
       "      <td>19</td>\n",
       "      <td>pass</td>\n",
       "    </tr>\n",
       "    <tr>\n",
       "      <th>12</th>\n",
       "      <td>chitesh</td>\n",
       "      <td>13</td>\n",
       "      <td>fail</td>\n",
       "    </tr>\n",
       "    <tr>\n",
       "      <th>19</th>\n",
       "      <td>himanshu</td>\n",
       "      <td>20</td>\n",
       "      <td>pass</td>\n",
       "    </tr>\n",
       "    <tr>\n",
       "      <th>1</th>\n",
       "      <td>hisham</td>\n",
       "      <td>2</td>\n",
       "      <td>fail</td>\n",
       "    </tr>\n",
       "    <tr>\n",
       "      <th>10</th>\n",
       "      <td>hitesh</td>\n",
       "      <td>11</td>\n",
       "      <td>pass</td>\n",
       "    </tr>\n",
       "    <tr>\n",
       "      <th>11</th>\n",
       "      <td>jatin</td>\n",
       "      <td>12</td>\n",
       "      <td>fail</td>\n",
       "    </tr>\n",
       "    <tr>\n",
       "      <th>6</th>\n",
       "      <td>priya</td>\n",
       "      <td>7</td>\n",
       "      <td>fail</td>\n",
       "    </tr>\n",
       "    <tr>\n",
       "      <th>7</th>\n",
       "      <td>priyanka</td>\n",
       "      <td>8</td>\n",
       "      <td>pass</td>\n",
       "    </tr>\n",
       "    <tr>\n",
       "      <th>2</th>\n",
       "      <td>raj</td>\n",
       "      <td>3</td>\n",
       "      <td>pass</td>\n",
       "    </tr>\n",
       "    <tr>\n",
       "      <th>14</th>\n",
       "      <td>raman</td>\n",
       "      <td>15</td>\n",
       "      <td>pass</td>\n",
       "    </tr>\n",
       "    <tr>\n",
       "      <th>5</th>\n",
       "      <td>ramesh</td>\n",
       "      <td>6</td>\n",
       "      <td>pass</td>\n",
       "    </tr>\n",
       "    <tr>\n",
       "      <th>16</th>\n",
       "      <td>ravi</td>\n",
       "      <td>17</td>\n",
       "      <td>pass</td>\n",
       "    </tr>\n",
       "    <tr>\n",
       "      <th>9</th>\n",
       "      <td>ritesh</td>\n",
       "      <td>10</td>\n",
       "      <td>pass</td>\n",
       "    </tr>\n",
       "    <tr>\n",
       "      <th>17</th>\n",
       "      <td>shravi</td>\n",
       "      <td>18</td>\n",
       "      <td>fail</td>\n",
       "    </tr>\n",
       "    <tr>\n",
       "      <th>4</th>\n",
       "      <td>sujit</td>\n",
       "      <td>5</td>\n",
       "      <td>fail</td>\n",
       "    </tr>\n",
       "    <tr>\n",
       "      <th>13</th>\n",
       "      <td>suman</td>\n",
       "      <td>14</td>\n",
       "      <td>fail</td>\n",
       "    </tr>\n",
       "    <tr>\n",
       "      <th>8</th>\n",
       "      <td>suresh</td>\n",
       "      <td>9</td>\n",
       "      <td>pass</td>\n",
       "    </tr>\n",
       "    <tr>\n",
       "      <th>0</th>\n",
       "      <td>vineet</td>\n",
       "      <td>1</td>\n",
       "      <td>fail</td>\n",
       "    </tr>\n",
       "  </tbody>\n",
       "</table>\n",
       "</div>"
      ],
      "text/plain": [
       "       names rno results\n",
       "3      ajeet   4    pass\n",
       "15      aman  16    fail\n",
       "18    chavvi  19    pass\n",
       "12   chitesh  13    fail\n",
       "19  himanshu  20    pass\n",
       "1     hisham   2    fail\n",
       "10    hitesh  11    pass\n",
       "11     jatin  12    fail\n",
       "6      priya   7    fail\n",
       "7   priyanka   8    pass\n",
       "2        raj   3    pass\n",
       "14     raman  15    pass\n",
       "5     ramesh   6    pass\n",
       "16      ravi  17    pass\n",
       "9     ritesh  10    pass\n",
       "17    shravi  18    fail\n",
       "4      sujit   5    fail\n",
       "13     suman  14    fail\n",
       "8     suresh   9    pass\n",
       "0     vineet   1    fail"
      ]
     },
     "execution_count": 24,
     "metadata": {},
     "output_type": "execute_result"
    }
   ],
   "source": [
    "#sorting of alphabet order\n",
    "df1.sort_values('names')\n"
   ]
  },
  {
   "cell_type": "code",
   "execution_count": null,
   "id": "7f80459e",
   "metadata": {},
   "outputs": [],
   "source": []
  },
  {
   "cell_type": "code",
   "execution_count": null,
   "id": "e82e887c",
   "metadata": {},
   "outputs": [],
   "source": []
  }
 ],
 "metadata": {
  "kernelspec": {
   "display_name": "Python 3 (ipykernel)",
   "language": "python",
   "name": "python3"
  },
  "language_info": {
   "codemirror_mode": {
    "name": "ipython",
    "version": 3
   },
   "file_extension": ".py",
   "mimetype": "text/x-python",
   "name": "python",
   "nbconvert_exporter": "python",
   "pygments_lexer": "ipython3",
   "version": "3.11.4"
  }
 },
 "nbformat": 4,
 "nbformat_minor": 5
}
